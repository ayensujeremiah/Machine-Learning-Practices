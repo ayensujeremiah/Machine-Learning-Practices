{
 "cells": [
  {
   "cell_type": "markdown",
   "metadata": {},
   "source": [
    "### SOLUTION TO A 1D BURGERS' EQUATION USING PHYSICS-INFORMED NEURAL NETWORK (PINN)\n",
    "\n",
    "Before we delve into writing a code to solve a 1D Burgers Equation, Let us note some few things about what PINN is all about.\n",
    "\n",
    "\n",
    "**PHYSICS-INFORMED DEEP LEARNING**\n",
    "\n",
    "In simple terms, Physics-Informed Deep Learning is an approach that combines deep learning principles and knowledge of physics to solve complex scientific and engineering problems. The main ideology of physics-informed deep learning is to use a known physics of a system for regularization of the deep learning model in order to improve its accuracy and generalization.\n",
    "\n",
    "In a regular deep learning model, large amount of data are used to train a neural network using some inputs to predict outputs without having prior knowledge about the underlying physics. While this approach has proven successful in many applications, it can be limited when the data is scarce, noisy, or incomplete, or when the physics of the problem is poorly understood.\n",
    "\n",
    "A usual approach in physics-informed deep learning is to use a partial differential equation which explains some physical phenomenon as a constraint on the output of the neural network.\n",
    "\n",
    "Physics-informed deep learning is a versatile approach that can be utilized in numerous problem domains, such as fluid dynamics, climate modeling, robotics, and material science. This method has demonstrated potential in resolving problems that are computationally demanding or challenging to scale with conventional techniques, or when the data is imperfect or incomplete. However, physics-informed deep learning is an evolving field of study, and several obstacles must be addressed, including the necessity for precise and consistent physical models, the selection of suitable regularization terms, and the development of effective training algorithms.\n",
    "\n",
    "\n",
    "\n",
    "\n",
    "\n",
    "\n",
    "\n",
    "\n",
    "\n",
    "\n",
    "\n",
    "\n",
    "\n",
    "\n",
    "\n",
    "\n",
    "\n"
   ]
  },
  {
   "cell_type": "markdown",
   "metadata": {},
   "source": [
    "**The 1D Burgers' Equation**\n",
    "\n",
    "The 1D Burgers' Equation is a partial diferential equation that describes how a fluid behaves in 1-dimension.\n",
    "\n",
    "The 1D Burgers' Equation is shown below:\n",
    "\n",
    "$\\frac{\\partial u}{\\partial t} + u\\frac{\\partial u}{\\partial x} - 0.05 \\pi\\frac{\\partial^2 u}{\\partial x^2} = 0, \\quad x \\in [-1,1], \\quad t \\in [0,1]$\n",
    "\n",
    "\n",
    "where:\n",
    "\n",
    "$0.05\\pi$: is the kinematic viscosity of the fluid\n",
    "\n",
    "$u(x,t)$: is the velocity of the fluid at a position x and time t\n",
    "\n",
    "$u(0,x) = -sin(\\pi{x})$: is the velocity of the fluid at the start of the simulation, that is at $t=0$\n",
    "\n",
    "$u(t,-1) = u(t,1) = 0$: is the behavior of fluid at the boundaries of the pipe\n",
    "\n",
    "$0.05 \\pi\\frac{\\partial^2 u}{\\partial x^2}$: is the diffusion of the fluid\n",
    "\n",
    "$u\\frac{\\partial u}{\\partial x}$: is the convection of the fluid\n",
    "\n"
   ]
  },
  {
   "cell_type": "markdown",
   "metadata": {},
   "source": [
    "**General Steps to Solve Equation Using Physics-Informed Deep Learning**\n",
    "\n",
    "To solve the 1D Burgers' Equation above we will:\n",
    "\n",
    "1. Define an architecture for our neural network constrained with the partial differential equation above.\n",
    "\n",
    "2. Define the loss function.\n",
    "\n",
    "3. Use gradient descent to train the neural network\n",
    "\n",
    "4. Perform some evaluation on the results\n",
    "\n"
   ]
  },
  {
   "cell_type": "markdown",
   "metadata": {},
   "source": [
    "#### Import the Necessary Libraries"
   ]
  },
  {
   "cell_type": "code",
   "execution_count": 12,
   "metadata": {},
   "outputs": [],
   "source": [
    "import tensorflow as tf\n",
    "import numpy as np\n",
    "import matplotlib.pyplot as plt\n"
   ]
  },
  {
   "cell_type": "markdown",
   "metadata": {},
   "source": [
    "#### Set Global Seed for Reproducibility"
   ]
  },
  {
   "cell_type": "code",
   "execution_count": 13,
   "metadata": {},
   "outputs": [],
   "source": [
    "tf.random.set_seed(42)"
   ]
  },
  {
   "cell_type": "markdown",
   "metadata": {},
   "source": [
    "#### Step 1: Define an Architecture for the Neural Network\n",
    "\n",
    "In this step, we create a class called `BurgersPINN` which inherits from the tensorflow `Model` class so we can use some functions for our class (example: trainable_variables).\n",
    "\n",
    "The neural network to solve the 1D Burgers' equation will have two inputs, x and t, and one output, u(x,t). We will use an architecture which is fully connected, with 3 hidden layers, with each hidden layer having 20 nodes. For this problem, we will use the hyperbolic tangent function`tanh`as the activation function for the hidden layers, and the `linear` activation function for the output layer."
   ]
  },
  {
   "cell_type": "code",
   "execution_count": 14,
   "metadata": {},
   "outputs": [],
   "source": [
    "class BurgersPINN(tf.keras.Model):\n",
    "    def __init__(self):\n",
    "        \n",
    "        \"\"\"\n",
    "        Function defines the hidden layers and the output layers\n",
    "        with their neurons and activation functions\n",
    "        \n",
    "        \"\"\"\n",
    "        \n",
    "        super().__init__() #Initializes an instance of the class\n",
    "        \n",
    "        #Define Hidden layers and the output Layer\n",
    "        self.dense1 = tf.keras.layers.Dense(20, activation='tanh')\n",
    "        self.dense2 = tf.keras.layers.Dense(20, activation='tanh')\n",
    "        self.dense3 = tf.keras.layers.Dense(20, activation='tanh')\n",
    "        self.dense4 = tf.keras.layers.Dense(1, activation='linear')\n",
    "    \n",
    "    def call(self, inputs):\n",
    "        \n",
    "        \"\"\"\n",
    "        Fits inputs to the defined hidden and output layers \n",
    "        \n",
    "        \"\"\"\n",
    "        #Define Inputs\n",
    "        x, t = inputs\n",
    "        \n",
    "        #Fit inputs to the defined layers\n",
    "        u = tf.concat([x, t], axis=1)\n",
    "        u = self.dense1(u)\n",
    "        u = self.dense2(u)\n",
    "        u = self.dense3(u)\n",
    "        u = self.dense4(u)\n",
    "        return u"
   ]
  },
  {
   "cell_type": "markdown",
   "metadata": {},
   "source": [
    "#### Step 2: Define the Loss Function\n",
    "\n",
    "In this step, we will define the loss function to be used to train our model. To do so, we create a function called `BurgersPINN_loss`, which takes the neural network or the `model`, inputs `x` and `t`, and `u_true` as arguments. u_true represents the exact solution given the initial condition and boundary of our partial differential equation. The function uses a persistent `GradientTape` API, which simple records operations for automatic differentiation. The `watch` method is used to trace the tensors x and t. The predicted solution u_pred is computed by calling the `model` on the inputs. The gradients of `u_pred` with respect to `x` and `t` are also computed.\n",
    "\n",
    "Because we are using a physics-informed deep learning approach, there are 2 parts of our loss function:\n",
    "\n",
    "1. A mean-squared error that computes the difference between predicted values `u_pred` and true values `u_true`.\n",
    "\n",
    "2. A physics-informed term that enforces the Burgers' equation at every point in the domain.\n",
    "\n",
    "The loss is then computed as the sum of the mean-squared error and mean-squared error of the residual function f. (`f_mse`)\n",
    "\n",
    "The function returns the computed loss"
   ]
  },
  {
   "cell_type": "code",
   "execution_count": 15,
   "metadata": {},
   "outputs": [],
   "source": [
    "def BurgersPINN_loss(model, x, t, u_true):\n",
    "    \n",
    "    \"\"\"\n",
    "    This function defines predicted values, compute gradients of predicted outputs with respect to each input,\n",
    "    computes the mean-squared error which measures difference between predicted outputs and true output values,\n",
    "    compute the residual function f, which enforces the Burgers' equation at every point of the domain,\n",
    "    computes the mean-squred error of the residual, set loss as the sum of mean-squared error and mean error of residual\n",
    "    function and finally returns the loss.\n",
    "    \"\"\"\n",
    "    \n",
    "    with tf.GradientTape(persistent=True) as g:\n",
    "        g.watch(x) #Traces the tensor x\n",
    "        \n",
    "        g.watch(t) #Traces the tensor t\n",
    "        \n",
    "        u_pred = model([x, t]) # Predicts output value based on defined neural network\n",
    "        \n",
    "        u_x = g.gradient(u_pred, x) # Computes gradients of predicted outputs with respect to x\n",
    "        \n",
    "        u_t = g.gradient(u_pred, t) # Computes gradients of predicted outputs with respect to x\n",
    "        \n",
    "        f = u_t + u_pred*u_x - 0.05*np.pi*g.gradient(u_x, x) # Physics-Informed term (residual)\n",
    "        \n",
    "        mse = tf.reduce_mean(tf.square(u_true - u_pred)) #Computes the mean-squared error\n",
    "\n",
    "    f_mse = tf.reduce_mean(tf.square(f)) # Computes mean-squared error of residual\n",
    "    \n",
    "    loss = mse + f_mse # Final loss\n",
    "\n",
    "    return loss"
   ]
  },
  {
   "cell_type": "markdown",
   "metadata": {},
   "source": [
    "#### Step 3:  Using Gradient Descent to Train the Neural Network\n",
    "\n",
    "Now that we have established our neural network's structure and method for evaluating its performance, we can proceed to train it using gradient descent. We will employ the Adam optimizer to optimize the weights of the neural network and train it for a total of 10,000 epochs.\n",
    "\n",
    "\n",
    "\n"
   ]
  },
  {
   "cell_type": "code",
   "execution_count": 16,
   "metadata": {},
   "outputs": [
    {
     "name": "stdout",
     "output_type": "stream",
     "text": [
      "Epoch 1000: Loss=0.08745742589235306, MSE=0.08010309934616089\n",
      "Epoch 2000: Loss=0.056246742606163025, MSE=0.052855972200632095\n",
      "Epoch 3000: Loss=0.056108150631189346, MSE=0.0528341569006443\n",
      "Epoch 4000: Loss=0.05570191890001297, MSE=0.0526697114109993\n",
      "Epoch 5000: Loss=0.055200010538101196, MSE=0.052247148007154465\n",
      "Epoch 6000: Loss=0.05518070608377457, MSE=0.052244678139686584\n",
      "Epoch 7000: Loss=0.05485208332538605, MSE=0.051972124725580215\n",
      "Epoch 8000: Loss=0.054896220564842224, MSE=0.05195828527212143\n",
      "Epoch 9000: Loss=0.05464228242635727, MSE=0.051773931831121445\n",
      "Epoch 10000: Loss=0.05494506284594536, MSE=0.05215191841125488\n"
     ]
    }
   ],
   "source": [
    "# Define the optimizer\n",
    "optimizer = tf.keras.optimizers.Adam(learning_rate=0.001)\n",
    "\n",
    "# Instantiate the model\n",
    "model = BurgersPINN() \n",
    "\n",
    "\n",
    "#set the loss and accuracy metrics\n",
    "train_loss = tf.keras.metrics.Mean(name='train_loss')\n",
    "train_mse = tf.keras.metrics.MeanSquaredError(name='train_mse')\n",
    "\n",
    "# Train the model\n",
    "for epoch in range(1, 10001):\n",
    "    with tf.GradientTape() as tape:\n",
    "        \n",
    "        # Generate a batch of random inputs\n",
    "        x = tf.random.uniform(shape=(100,1), minval=-1, maxval=1)\n",
    "        t = tf.random.uniform(shape=(100,1), minval=0, maxval=1)\n",
    "\n",
    "        \n",
    "        # The exact solution of the 1D Burgers' Partial differential equation\n",
    "        # given the initial condition and boundary  \n",
    "        u_true = -tf.sin(np.pi*x) \n",
    "        \n",
    "        \n",
    "        # Compute the Loss\n",
    "        loss = BurgersPINN_loss(model, x, t, u_true)\n",
    "\n",
    "    \n",
    "    # Compute gradients and update the model\n",
    "    gradients = tape.gradient(loss, model.trainable_variables)\n",
    "    optimizer.apply_gradients(zip(gradients, model.trainable_variables))\n",
    "\n",
    "    \n",
    "    # Update the metrics\n",
    "    train_loss(loss)\n",
    "    train_mse(u_true, model([x, t]))\n",
    "\n",
    "    # Print the metrics every 1000 epochs\n",
    "    if epoch % 1000 == 0:\n",
    "        print(f\"Epoch {epoch}: Loss={train_loss.result()}, MSE={train_mse.result()}\")\n",
    "\n",
    "        # Reset the metrics for the next epoch\n",
    "        train_loss.reset_states()\n",
    "        train_mse.reset_states()"
   ]
  },
  {
   "cell_type": "markdown",
   "metadata": {},
   "source": [
    "#### Step 4: Perform Some Evaluations on the Results\n",
    "\n",
    "In this final step, we can assess the performance of our trained model by generating a set of coordinates in the domain, and using the trained model to predict the velocity of u(x,t) at each of these points. After which, we'll plot a contour graph to visually represent the results."
   ]
  },
  {
   "cell_type": "code",
   "execution_count": 17,
   "metadata": {},
   "outputs": [
    {
     "data": {
      "image/png": "[encoded data removed]",
      "text/plain": [
       "<Figure size 1000x600 with 2 Axes>"
      ]
     },
     "metadata": {},
     "output_type": "display_data"
    }
   ],
   "source": [
    "\n",
    "# Generate a grid of points in the domain\n",
    "x = np.linspace(-1, 1, 101)\n",
    "t = np.linspace(0, 1, 101)\n",
    "x_grid, t_grid = np.meshgrid(x, t)\n",
    "\n",
    "# Flatten the grid and use the trained model to predict the velocity\n",
    "u_pred = model([x_grid.flatten()[:,None], t_grid.flatten()[:,None]])\n",
    "u_pred = np.reshape(u_pred, x_grid.shape)\n",
    "\n",
    "# Plot the results\n",
    "plt.figure(figsize=(10,6))\n",
    "plt.contourf(x_grid, t_grid, u_pred, cmap='coolwarm')\n",
    "plt.colorbar()\n",
    "plt.xlabel('x')\n",
    "plt.ylabel('t')\n",
    "plt.title('Burgers\\' Equation')\n",
    "plt.show()\n"
   ]
  },
  {
   "cell_type": "markdown",
   "metadata": {},
   "source": [
    "**One may ask:**\n",
    "\n",
    "Why did we not predict on some generated test data in order to evaluate the model we built?\n",
    "\n",
    "\n"
   ]
  },
  {
   "cell_type": "markdown",
   "metadata": {},
   "source": [
    "**Answer:**\n",
    "\n",
    "To solve partial differential equations (PDEs), such as the Burgers' equation, the use of test data sets is not common as it is in traditional machine learning tasks. The objective in PDEs is to obtain a numerical solution that meets the PDE and boundary conditions, rather than predicting outcomes on unseen data.\n",
    "\n",
    "For the Burgers' equation, the typical approach involves discretizing the PDE in space and time and numerically solving it on a grid using finite difference, finite volume, or finite element methods. The initial and boundary conditions determine the values at the grid points, and the numerical solution is obtained iteratively.\n",
    "\n",
    "After obtaining the numerical solution, it can be evaluated using performance metrics like the L2 norm, maximum error, conservation laws, and visualization. If the solution meets the desired accuracy level, there is no need for test data sets. However, if more validation is necessary, a convergence study can be performed by refining the spatial and temporal resolutions to evaluate the accuracy of the numerical solution.\n",
    "\n",
    "It is worth mentioning that advanced techniques such as machine learning-based methods can also be used to solve PDEs, where a data-driven approach is employed to learn the solution directly from data. In such cases, a training data set and a separate test data set can be used to train and evaluate the machine learning model. However, these approaches are more specialized and may not be as commonly used in traditional numerical PDE solutions."
   ]
  }
 ],
 "metadata": {
  "kernelspec": {
   "display_name": "Python [conda env:py3-TF2.0]",
   "language": "python",
   "name": "conda-env-py3-TF2.0-py"
  },
  "language_info": {
   "codemirror_mode": {
    "name": "ipython",
    "version": 3
   },
   "file_extension": ".py",
   "mimetype": "text/x-python",
   "name": "python",
   "nbconvert_exporter": "python",
   "pygments_lexer": "ipython3",
   "version": "3.11.0"
  }
 },
 "nbformat": 4,
 "nbformat_minor": 2
}
